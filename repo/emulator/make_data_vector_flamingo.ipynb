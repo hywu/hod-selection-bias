{
 "cells": [
  {
   "cell_type": "code",
   "execution_count": 1,
   "id": "62e3db8f-18e2-48e1-9276-bb984085d8bf",
   "metadata": {},
   "outputs": [],
   "source": [
    "%load_ext autoreload\n",
    "%autoreload 2\n",
    "import numpy as np\n",
    "import matplotlib.pyplot as plt\n",
    "plt.style.use('MNRAS')\n",
    "from scipy import linalg\n",
    "from scipy.interpolate import interp1d"
   ]
  },
  {
   "cell_type": "code",
   "execution_count": 2,
   "id": "6b787d6a-ffc1-4360-a1fc-4e48e6369f9a",
   "metadata": {},
   "outputs": [],
   "source": [
    "#redshift = 0.3 #0.3 #0.5 #0.4 #0.3\n",
    "model_name = 'redmagic_chi6_1e-02_HBT' #'redmagic_chi2_6e-03_HBT'\n",
    "rich_name = 'q180'#'d90'\n",
    "output_loc = '/cosma8/data/do012/dc-wu5/cylinder/output_L1000N3600/HYDRO_FIDUCIAL/'\n"
   ]
  },
  {
   "cell_type": "code",
   "execution_count": 3,
   "id": "315e1f37-0161-4e85-88d3-f63dd4811007",
   "metadata": {},
   "outputs": [
    {
     "name": "stdout",
     "output_type": "stream",
     "text": [
      "len(rp_rad) =  11\n"
     ]
    }
   ],
   "source": [
    "## make the data vector for MCMC\n",
    "for redshift in [0.3]:#, 0.4, 0.5]:\n",
    "    output_loc += f'z{redshift}/model_{model_name}/' \n",
    "    data_loc = output_loc + 'obs_q180_desy1/'\n",
    "    #rp_rad = np.loadtxt('data_vector_abacus_summit//rp_rad.dat')\n",
    "    #rp_rad, DS, DS_err = np.loadtxt(f'../../hod/y1/data/y1_DS_bin_z_0.2_0.35_lam_0.dat', unpack=True)\n",
    "    rp_list = np.logspace(np.log10(0.03), np.log10(30), 15+1)\n",
    "    rpmin_list = rp_list[:-1]\n",
    "    rpmax_list = rp_list[1:]\n",
    "    rpmid_list = np.sqrt(rpmin_list*rpmax_list)\n",
    "    rp_rad = rpmid_list[rpmid_list>0.2]\n",
    "    print('len(rp_rad) = ', len(rp_rad))\n",
    "    \n",
    "    DS_data = []\n",
    "    for ibin in range(4):\n",
    "        rp_in, DS_in = np.loadtxt(data_loc + f'DS_phys_noh_lam_bin_{ibin}.dat', unpack=True)\n",
    "        DS_interp = interp1d(np.log(rp_in), np.log(DS_in))\n",
    "        DS_data.extend(np.exp(DS_interp(np.log(rp_rad))))\n",
    "    DS_data = np.array(DS_data)\n",
    "    x, x, NC_data = np.loadtxt(data_loc+'abundance.dat',unpack=True)\n",
    "    data_vec = np.append(NC_data, DS_data)\n",
    "    np.savetxt(f'data_vector_flamingo/data_vector_z{redshift}.dat', data_vec, comments='NC (4), DS (4x11)')"
   ]
  },
  {
   "cell_type": "code",
   "execution_count": 4,
   "id": "6a79b01e-980a-4834-aa4c-f5fe1ba5a293",
   "metadata": {},
   "outputs": [],
   "source": [
    "# data_vec_summit = np.loadtxt('data_vector_abacus_summit/data_vector_z0p300.dat')\n",
    "# plt.plot(data_vec_summit, label='Summit')\n",
    "# plt.plot(data_vec, label='Flamingo')\n",
    "# plt.yscale('log')"
   ]
  },
  {
   "cell_type": "code",
   "execution_count": 5,
   "id": "9fad6eb4-ed6a-437a-a470-7f2073acf4f3",
   "metadata": {},
   "outputs": [],
   "source": [
    "#plt.plot(data_vec/data_vec_summit,'o-', label='Flamingo/Summit')\n",
    "#plt.yscale('log')"
   ]
  },
  {
   "cell_type": "code",
   "execution_count": null,
   "id": "ebe4427c-be09-479c-bb93-55c9d6e536b5",
   "metadata": {},
   "outputs": [],
   "source": []
  },
  {
   "cell_type": "code",
   "execution_count": null,
   "id": "f43ff3e6-1282-4add-8b1e-ffe3ede1a219",
   "metadata": {},
   "outputs": [],
   "source": []
  },
  {
   "cell_type": "code",
   "execution_count": null,
   "id": "a4321145-409e-46cc-b356-a4a4445c231c",
   "metadata": {},
   "outputs": [],
   "source": []
  },
  {
   "cell_type": "code",
   "execution_count": null,
   "id": "92e213fa-1b2d-4bf2-8813-fcdcea27a68d",
   "metadata": {},
   "outputs": [],
   "source": []
  },
  {
   "cell_type": "code",
   "execution_count": null,
   "id": "34540745-3707-488c-a7da-6875877608d5",
   "metadata": {},
   "outputs": [],
   "source": []
  },
  {
   "cell_type": "code",
   "execution_count": null,
   "id": "fbe4e92f-6c44-431d-af86-d843e70e435e",
   "metadata": {},
   "outputs": [],
   "source": []
  },
  {
   "cell_type": "code",
   "execution_count": null,
   "id": "54608805-de7b-4112-9ccd-bfed33a2b77c",
   "metadata": {},
   "outputs": [],
   "source": []
  },
  {
   "cell_type": "code",
   "execution_count": null,
   "id": "5b26312e-79bb-40cc-865f-44bf15deee7a",
   "metadata": {},
   "outputs": [],
   "source": []
  }
 ],
 "metadata": {
  "kernelspec": {
   "display_name": "Python 3 (ipykernel)",
   "language": "python",
   "name": "python3"
  },
  "language_info": {
   "codemirror_mode": {
    "name": "ipython",
    "version": 3
   },
   "file_extension": ".py",
   "mimetype": "text/x-python",
   "name": "python",
   "nbconvert_exporter": "python",
   "pygments_lexer": "ipython3",
   "version": "3.12.2"
  }
 },
 "nbformat": 4,
 "nbformat_minor": 5
}
