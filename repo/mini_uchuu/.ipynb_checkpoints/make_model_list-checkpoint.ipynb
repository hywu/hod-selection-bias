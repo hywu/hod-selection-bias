{
 "cells": [
  {
   "cell_type": "markdown",
   "id": "5b6a98c7",
   "metadata": {},
   "source": [
    "## fiducial models"
   ]
  },
  {
   "cell_type": "code",
   "execution_count": 1,
   "id": "05e3d33b",
   "metadata": {},
   "outputs": [],
   "source": [
    "import pandas as pd\n",
    "data = {\n",
    "    'model_id'  :  [0, 1],\n",
    "    'alpha'     :  [1, 1],\n",
    "    'lgM1'      :  [12.9, 12.9],\n",
    "    'kappa'     :  [1, 1],\n",
    "    'lgMcut'    :  [11.7, 11.5],\n",
    "    'sigmalogM' :  [0.1, 0.1],\n",
    "    'sigma_intr':  [0, 0]\n",
    "}\n",
    "# make data frame of above data\n",
    "df = pd.DataFrame(data)\n",
    "# append data frame to CSV file\n",
    "df.to_csv('model_list.csv', index=False)#, mode='a', index=False, header=False)"
   ]
  },
  {
   "cell_type": "code",
   "execution_count": 2,
   "id": "75f05a33",
   "metadata": {},
   "outputs": [
    {
     "name": "stdout",
     "output_type": "stream",
     "text": [
      "alpha = 1\n"
     ]
    }
   ],
   "source": [
    "# data2 = pd.read_csv('model_list.csv')\n",
    "# model = data2.iloc[0]\n",
    "# print('alpha = %g'% model['alpha'])\n",
    "\n",
    "# ## making a one-row csv\n",
    "# df2 = pd.DataFrame(columns=list(data2.keys()))\n",
    "# df2.loc[0] = model\n",
    "# df2.to_csv('test.csv', index=False)"
   ]
  },
  {
   "cell_type": "code",
   "execution_count": null,
   "id": "69941689",
   "metadata": {},
   "outputs": [],
   "source": []
  },
  {
   "cell_type": "code",
   "execution_count": 3,
   "id": "572241ac",
   "metadata": {},
   "outputs": [
    {
     "name": "stdout",
     "output_type": "stream",
     "text": [
      "alpha = 1\n"
     ]
    }
   ],
   "source": [
    "# data3 = pd.read_csv('test.csv')\n",
    "# model3 = data3.iloc[0]\n",
    "# alpha = model3['alpha']\n",
    "# print('alpha = %g'%model3['alpha'])\n"
   ]
  },
  {
   "cell_type": "code",
   "execution_count": null,
   "id": "1d6a0e2f",
   "metadata": {},
   "outputs": [],
   "source": []
  },
  {
   "cell_type": "markdown",
   "id": "6e285514",
   "metadata": {},
   "source": [
    "## append extra models\n",
    "[link](https://www.geeksforgeeks.org/how-to-append-pandas-dataframe-to-existing-csv-file/)\n",
    "\n",
    "\n"
   ]
  },
  {
   "cell_type": "code",
   "execution_count": 4,
   "id": "754eee21",
   "metadata": {},
   "outputs": [],
   "source": [
    "import pandas as pd\n",
    "data = {\n",
    "    'model_id'  :  [2, 3, 4],\n",
    "    'alpha'     :  [1, 1, 1],\n",
    "    'lgM1'      :  [12.9, 13.1, 13.3],\n",
    "    'kappa'     :  [1, 1, 1],\n",
    "    'lgMcut'    :  [11.3, 11.3, 11.3],\n",
    "    'sigmalogM' :  [0.1, 0.1, 0.1],\n",
    "    'sigma_intr':  [0, 0, 0]\n",
    "}\n",
    "# make data frame of above data\n",
    "df = pd.DataFrame(data)\n",
    "df.to_csv('model_list.csv', mode='a', index=False, header=False)"
   ]
  },
  {
   "cell_type": "code",
   "execution_count": null,
   "id": "30a0af9b",
   "metadata": {},
   "outputs": [],
   "source": []
  }
 ],
 "metadata": {
  "kernelspec": {
   "display_name": "Python 3",
   "language": "python",
   "name": "python3"
  },
  "language_info": {
   "codemirror_mode": {
    "name": "ipython",
    "version": 3
   },
   "file_extension": ".py",
   "mimetype": "text/x-python",
   "name": "python",
   "nbconvert_exporter": "python",
   "pygments_lexer": "ipython3",
   "version": "3.8.8"
  }
 },
 "nbformat": 4,
 "nbformat_minor": 5
}
