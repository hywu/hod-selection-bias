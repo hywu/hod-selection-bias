{
 "cells": [
  {
   "cell_type": "code",
   "execution_count": 24,
   "id": "e7e9b47c",
   "metadata": {},
   "outputs": [
    {
     "name": "stdout",
     "output_type": "stream",
     "text": [
      "dict_keys(['DS_d30_abun_bin_0', 'DS_d30_abun_bin_1', 'DS_d30_abun_bin_2', 'DS_d30_abun_bin_3'])\n",
      "{'DS_d30_abun_bin_0': array([[1.25892e-01, 1.99526e-01, 3.16228e-01, 5.01187e-01, 7.94328e-01,\n",
      "        1.25892e+00, 1.99526e+00, 3.16228e+00, 5.01187e+00, 7.94328e+00,\n",
      "        1.25892e+01, 1.99526e+01, 3.16228e+01, 5.01187e+01],\n",
      "       [1.49692e+14, 1.12473e+14, 8.18201e+13, 5.63804e+13, 3.77343e+13,\n",
      "        2.32993e+13, 1.29312e+13, 6.98865e+12, 3.89914e+12, 2.37152e+12,\n",
      "        1.60540e+12, 1.17772e+12, 7.46874e+11, 4.43356e+11],\n",
      "       [1.46201e+14, 1.12057e+14, 8.07766e+13, 5.56103e+13, 3.60458e+13,\n",
      "        2.16491e+13, 1.16945e+13, 5.90965e+12, 3.00220e+12, 1.80450e+12,\n",
      "        1.21696e+12, 8.72929e+11, 5.73790e+11, 3.10880e+11]]), 'DS_d30_abun_bin_1': array([[1.25892e-01, 1.99526e-01, 3.16228e-01, 5.01187e-01, 7.94328e-01,\n",
      "        1.25892e+00, 1.99526e+00, 3.16228e+00, 5.01187e+00, 7.94328e+00,\n",
      "        1.25892e+01, 1.99526e+01, 3.16228e+01, 5.01187e+01],\n",
      "       [1.93450e+14, 1.50512e+14, 1.10698e+14, 7.83670e+13, 5.36776e+13,\n",
      "        3.43829e+13, 1.98475e+13, 1.02407e+13, 5.15160e+12, 3.16331e+12,\n",
      "        2.04960e+12, 1.32902e+12, 7.74010e+11, 4.53039e+11],\n",
      "       [1.90831e+14, 1.48220e+14, 1.09975e+14, 7.69127e+13, 5.17634e+13,\n",
      "        3.21417e+13, 1.80109e+13, 9.00641e+12, 4.40227e+12, 2.43733e+12,\n",
      "        1.54399e+12, 1.09013e+12, 6.13866e+11, 3.54538e+11]]), 'DS_d30_abun_bin_2': array([[1.25892e-01, 1.99526e-01, 3.16228e-01, 5.01187e-01, 7.94328e-01,\n",
      "        1.25892e+00, 1.99526e+00, 3.16228e+00, 5.01187e+00, 7.94328e+00,\n",
      "        1.25892e+01, 1.99526e+01, 3.16228e+01, 5.01187e+01],\n",
      "       [2.13023e+14, 1.67813e+14, 1.31290e+14, 9.29295e+13, 6.56937e+13,\n",
      "        4.49246e+13, 2.70997e+13, 1.36912e+13, 7.36386e+12, 3.88829e+12,\n",
      "        2.16922e+12, 1.49077e+12, 9.15980e+11, 5.41618e+11],\n",
      "       [2.04761e+14, 1.67708e+14, 1.27331e+14, 9.19692e+13, 6.36740e+13,\n",
      "        4.09977e+13, 2.42895e+13, 1.17752e+13, 5.88105e+12, 3.25006e+12,\n",
      "        1.90992e+12, 1.35629e+12, 8.09889e+11, 5.42716e+11]]), 'DS_d30_abun_bin_3': array([[1.25892e-01, 1.99526e-01, 3.16228e-01, 5.01187e-01, 7.94328e-01,\n",
      "        1.25892e+00, 1.99526e+00, 3.16228e+00, 5.01187e+00, 7.94328e+00,\n",
      "        1.25892e+01, 1.99526e+01, 3.16228e+01, 5.01187e+01],\n",
      "       [2.68546e+14, 2.19411e+14, 1.65488e+14, 1.24113e+14, 8.90289e+13,\n",
      "        6.24971e+13, 3.83479e+13, 2.01280e+13, 9.83936e+12, 5.32381e+12,\n",
      "        2.68353e+12, 1.93682e+12, 1.30613e+12, 9.26436e+11],\n",
      "       [2.58135e+14, 2.06860e+14, 1.64602e+14, 1.21825e+14, 8.57074e+13,\n",
      "        5.72944e+13, 3.44752e+13, 1.78494e+13, 8.74266e+12, 4.60099e+12,\n",
      "        2.42822e+12, 1.74911e+12, 1.16421e+12, 5.93039e+11]])}\n"
     ]
    }
   ],
   "source": [
    "## get para, lensing, lensing bias\n",
    "## output them into a CSV \n",
    "import numpy as np\n",
    "\n",
    "model_id = 0\n",
    "loc = f'/bsuhome/hwu/scratch/hod-selection-bias/output_mini_uchuu/model_{model_id}/'\n",
    "\n",
    "output_dict = {}\n",
    "nbins = 4\n",
    "for ibin in range(nbins):\n",
    "    data = np.loadtxt(f'{loc}/lensing_d30/DS_abun_bin_{ibin}.dat', unpack=True)\n",
    "    dict_temp = {f'DS_d30_abun_bin_{ibin}': data}\n",
    "    output_dict.update(dict_temp)\n",
    "print(output_dict.keys())\n",
    "print(output_dict)"
   ]
  },
  {
   "cell_type": "code",
   "execution_count": 34,
   "id": "f935ba97",
   "metadata": {},
   "outputs": [],
   "source": [
    "# load csv module\n",
    "import csv\n",
    "w = csv.writer(open(\"output.csv\", \"w\"))\n",
    "for key, val in output_dict.items():\n",
    "    w.writerow([key, val])\n",
    "w.close()"
   ]
  },
  {
   "cell_type": "code",
   "execution_count": 26,
   "id": "fea1b170",
   "metadata": {},
   "outputs": [],
   "source": [
    "\n",
    "# with open('names.csv', 'w', newline='') as csvfile:\n",
    "#     fieldnames = ['first_name', 'last_name']\n",
    "#     writer = csv.DictWriter(csvfile, fieldnames=fieldnames)\n",
    "\n",
    "#     writer.writeheader()\n",
    "#     writer.writerow({'first_name': 'Baked', 'last_name': 'Beans'})\n",
    "#     writer.writerow({'first_name': 'Lovely', 'last_name': 'Spam'})\n",
    "#     writer.writerow({'first_name': 'Wonderful', 'last_name': 'Spam'})"
   ]
  },
  {
   "cell_type": "code",
   "execution_count": null,
   "id": "124e5331",
   "metadata": {},
   "outputs": [],
   "source": []
  }
 ],
 "metadata": {
  "kernelspec": {
   "display_name": "Python 3",
   "language": "python",
   "name": "python3"
  },
  "language_info": {
   "codemirror_mode": {
    "name": "ipython",
    "version": 3
   },
   "file_extension": ".py",
   "mimetype": "text/x-python",
   "name": "python",
   "nbconvert_exporter": "python",
   "pygments_lexer": "ipython3",
   "version": "3.8.8"
  }
 },
 "nbformat": 4,
 "nbformat_minor": 5
}
