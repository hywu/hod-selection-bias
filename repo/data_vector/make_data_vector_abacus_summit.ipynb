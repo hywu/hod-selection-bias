{
 "cells": [
  {
   "cell_type": "code",
   "execution_count": 1,
   "id": "62e3db8f-18e2-48e1-9276-bb984085d8bf",
   "metadata": {},
   "outputs": [],
   "source": [
    "%load_ext autoreload\n",
    "%autoreload 2\n",
    "import numpy as np\n",
    "import matplotlib.pyplot as plt\n",
    "plt.style.use('MNRAS')\n",
    "from scipy import linalg\n",
    "from scipy.interpolate import interp1d"
   ]
  },
  {
   "cell_type": "code",
   "execution_count": 2,
   "id": "607bd117-0500-4795-bc4f-8f6dba1e187b",
   "metadata": {},
   "outputs": [],
   "source": [
    "survey = 'desy1' # 'desy1thre'"
   ]
  },
  {
   "cell_type": "code",
   "execution_count": 6,
   "id": "315e1f37-0161-4e85-88d3-f63dd4811007",
   "metadata": {},
   "outputs": [
    {
     "ename": "FileNotFoundError",
     "evalue": "/projects/hywu/cluster_sims/cluster_finding/data/emulator_data/base_c000_ph000/z0p300/model_hod000000/obs_q180_bg_miscen_desy1/DS_phys_noh_lam_bin_0.dat not found.",
     "output_type": "error",
     "traceback": [
      "\u001b[0;31m---------------------------------------------------------------------------\u001b[0m",
      "\u001b[0;31mFileNotFoundError\u001b[0m                         Traceback (most recent call last)",
      "Cell \u001b[0;32mIn[6], line 34\u001b[0m\n\u001b[1;32m     32\u001b[0m DS_data \u001b[38;5;241m=\u001b[39m []\n\u001b[1;32m     33\u001b[0m \u001b[38;5;28;01mfor\u001b[39;00m ilam \u001b[38;5;129;01min\u001b[39;00m \u001b[38;5;28mrange\u001b[39m(nlam):\n\u001b[0;32m---> 34\u001b[0m     rp_in, DS_in \u001b[38;5;241m=\u001b[39m np\u001b[38;5;241m.\u001b[39mloadtxt(data_loc \u001b[38;5;241m+\u001b[39m \u001b[38;5;124mf\u001b[39m\u001b[38;5;124m'\u001b[39m\u001b[38;5;124mDS_phys_noh_\u001b[39m\u001b[38;5;132;01m{\u001b[39;00mbinning\u001b[38;5;132;01m}\u001b[39;00m\u001b[38;5;124m_bin_\u001b[39m\u001b[38;5;132;01m{\u001b[39;00milam\u001b[38;5;132;01m}\u001b[39;00m\u001b[38;5;124m.dat\u001b[39m\u001b[38;5;124m'\u001b[39m, unpack\u001b[38;5;241m=\u001b[39m\u001b[38;5;28;01mTrue\u001b[39;00m)\n\u001b[1;32m     35\u001b[0m     DS_interp \u001b[38;5;241m=\u001b[39m interp1d(np\u001b[38;5;241m.\u001b[39mlog(rp_in), np\u001b[38;5;241m.\u001b[39mlog(DS_in))\n\u001b[1;32m     36\u001b[0m     DS_data\u001b[38;5;241m.\u001b[39mextend(np\u001b[38;5;241m.\u001b[39mexp(DS_interp(np\u001b[38;5;241m.\u001b[39mlog(rp_rad))))\n",
      "File \u001b[0;32m~/lib/anaconda3/lib/python3.12/site-packages/numpy/lib/npyio.py:1373\u001b[0m, in \u001b[0;36mloadtxt\u001b[0;34m(fname, dtype, comments, delimiter, converters, skiprows, usecols, unpack, ndmin, encoding, max_rows, quotechar, like)\u001b[0m\n\u001b[1;32m   1370\u001b[0m \u001b[38;5;28;01mif\u001b[39;00m \u001b[38;5;28misinstance\u001b[39m(delimiter, \u001b[38;5;28mbytes\u001b[39m):\n\u001b[1;32m   1371\u001b[0m     delimiter \u001b[38;5;241m=\u001b[39m delimiter\u001b[38;5;241m.\u001b[39mdecode(\u001b[38;5;124m'\u001b[39m\u001b[38;5;124mlatin1\u001b[39m\u001b[38;5;124m'\u001b[39m)\n\u001b[0;32m-> 1373\u001b[0m arr \u001b[38;5;241m=\u001b[39m _read(fname, dtype\u001b[38;5;241m=\u001b[39mdtype, comment\u001b[38;5;241m=\u001b[39mcomment, delimiter\u001b[38;5;241m=\u001b[39mdelimiter,\n\u001b[1;32m   1374\u001b[0m             converters\u001b[38;5;241m=\u001b[39mconverters, skiplines\u001b[38;5;241m=\u001b[39mskiprows, usecols\u001b[38;5;241m=\u001b[39musecols,\n\u001b[1;32m   1375\u001b[0m             unpack\u001b[38;5;241m=\u001b[39munpack, ndmin\u001b[38;5;241m=\u001b[39mndmin, encoding\u001b[38;5;241m=\u001b[39mencoding,\n\u001b[1;32m   1376\u001b[0m             max_rows\u001b[38;5;241m=\u001b[39mmax_rows, quote\u001b[38;5;241m=\u001b[39mquotechar)\n\u001b[1;32m   1378\u001b[0m \u001b[38;5;28;01mreturn\u001b[39;00m arr\n",
      "File \u001b[0;32m~/lib/anaconda3/lib/python3.12/site-packages/numpy/lib/npyio.py:992\u001b[0m, in \u001b[0;36m_read\u001b[0;34m(fname, delimiter, comment, quote, imaginary_unit, usecols, skiplines, max_rows, converters, ndmin, unpack, dtype, encoding)\u001b[0m\n\u001b[1;32m    990\u001b[0m     fname \u001b[38;5;241m=\u001b[39m os\u001b[38;5;241m.\u001b[39mfspath(fname)\n\u001b[1;32m    991\u001b[0m \u001b[38;5;28;01mif\u001b[39;00m \u001b[38;5;28misinstance\u001b[39m(fname, \u001b[38;5;28mstr\u001b[39m):\n\u001b[0;32m--> 992\u001b[0m     fh \u001b[38;5;241m=\u001b[39m np\u001b[38;5;241m.\u001b[39mlib\u001b[38;5;241m.\u001b[39m_datasource\u001b[38;5;241m.\u001b[39mopen(fname, \u001b[38;5;124m'\u001b[39m\u001b[38;5;124mrt\u001b[39m\u001b[38;5;124m'\u001b[39m, encoding\u001b[38;5;241m=\u001b[39mencoding)\n\u001b[1;32m    993\u001b[0m     \u001b[38;5;28;01mif\u001b[39;00m encoding \u001b[38;5;129;01mis\u001b[39;00m \u001b[38;5;28;01mNone\u001b[39;00m:\n\u001b[1;32m    994\u001b[0m         encoding \u001b[38;5;241m=\u001b[39m \u001b[38;5;28mgetattr\u001b[39m(fh, \u001b[38;5;124m'\u001b[39m\u001b[38;5;124mencoding\u001b[39m\u001b[38;5;124m'\u001b[39m, \u001b[38;5;124m'\u001b[39m\u001b[38;5;124mlatin1\u001b[39m\u001b[38;5;124m'\u001b[39m)\n",
      "File \u001b[0;32m~/lib/anaconda3/lib/python3.12/site-packages/numpy/lib/_datasource.py:193\u001b[0m, in \u001b[0;36mopen\u001b[0;34m(path, mode, destpath, encoding, newline)\u001b[0m\n\u001b[1;32m    156\u001b[0m \u001b[38;5;250m\u001b[39m\u001b[38;5;124;03m\"\"\"\u001b[39;00m\n\u001b[1;32m    157\u001b[0m \u001b[38;5;124;03mOpen `path` with `mode` and return the file object.\u001b[39;00m\n\u001b[1;32m    158\u001b[0m \n\u001b[0;32m   (...)\u001b[0m\n\u001b[1;32m    189\u001b[0m \n\u001b[1;32m    190\u001b[0m \u001b[38;5;124;03m\"\"\"\u001b[39;00m\n\u001b[1;32m    192\u001b[0m ds \u001b[38;5;241m=\u001b[39m DataSource(destpath)\n\u001b[0;32m--> 193\u001b[0m \u001b[38;5;28;01mreturn\u001b[39;00m ds\u001b[38;5;241m.\u001b[39mopen(path, mode, encoding\u001b[38;5;241m=\u001b[39mencoding, newline\u001b[38;5;241m=\u001b[39mnewline)\n",
      "File \u001b[0;32m~/lib/anaconda3/lib/python3.12/site-packages/numpy/lib/_datasource.py:533\u001b[0m, in \u001b[0;36mDataSource.open\u001b[0;34m(self, path, mode, encoding, newline)\u001b[0m\n\u001b[1;32m    530\u001b[0m     \u001b[38;5;28;01mreturn\u001b[39;00m _file_openers[ext](found, mode\u001b[38;5;241m=\u001b[39mmode,\n\u001b[1;32m    531\u001b[0m                               encoding\u001b[38;5;241m=\u001b[39mencoding, newline\u001b[38;5;241m=\u001b[39mnewline)\n\u001b[1;32m    532\u001b[0m \u001b[38;5;28;01melse\u001b[39;00m:\n\u001b[0;32m--> 533\u001b[0m     \u001b[38;5;28;01mraise\u001b[39;00m \u001b[38;5;167;01mFileNotFoundError\u001b[39;00m(\u001b[38;5;124mf\u001b[39m\u001b[38;5;124m\"\u001b[39m\u001b[38;5;132;01m{\u001b[39;00mpath\u001b[38;5;132;01m}\u001b[39;00m\u001b[38;5;124m not found.\u001b[39m\u001b[38;5;124m\"\u001b[39m)\n",
      "\u001b[0;31mFileNotFoundError\u001b[0m: /projects/hywu/cluster_sims/cluster_finding/data/emulator_data/base_c000_ph000/z0p300/model_hod000000/obs_q180_bg_miscen_desy1/DS_phys_noh_lam_bin_0.dat not found."
     ]
    }
   ],
   "source": [
    "## make the fake data\n",
    "rich_name = 'q180_bg_miscen'\n",
    "\n",
    "if survey == 'desy1':\n",
    "    lam = [20, 30, 45, 60, 1000]\n",
    "\n",
    "if survey == 'desy1thre':\n",
    "    lam = [20, 1000]\n",
    "\n",
    "nlam = len(lam) - 1\n",
    "\n",
    "z_data = [0.2, 0.35, 0.5, 0.65]\n",
    "z_sim = [0.3, 0.4, 0.5]\n",
    "iz = 0\n",
    "\n",
    "for binning in ['abun', 'lam']: #, \n",
    "    redshift = z_sim[iz]   \n",
    "    if redshift == 0.3: z_str = '0p300'\n",
    "    if redshift == 0.4: z_str = '0p400'\n",
    "    if redshift == 0.5: z_str = '0p500'\n",
    "    \n",
    "    data_loc = '/projects/hywu/cluster_sims/cluster_finding/data/emulator_data/base_c000_ph000/'\n",
    "    data_loc += f'z{z_str}/model_hod000000/obs_{rich_name}_{survey}/'\n",
    "    # get the radius\n",
    "    rp_list = np.logspace(np.log10(0.03), np.log10(30), 15+1)\n",
    "    rpmin_list = rp_list[:-1]\n",
    "    rpmax_list = rp_list[1:]\n",
    "    rpmid_list = np.sqrt(rpmin_list*rpmax_list)\n",
    "    rp_rad = rpmid_list[rpmid_list>0.2]\n",
    "    \n",
    "    #### lesing data ####\n",
    "    DS_data = []\n",
    "    for ilam in range(nlam):\n",
    "        rp_in, DS_in = np.loadtxt(data_loc + f'DS_phys_noh_{binning}_bin_{ilam}.dat', unpack=True)\n",
    "        DS_interp = interp1d(np.log(rp_in), np.log(DS_in))\n",
    "        DS_data.extend(np.exp(DS_interp(np.log(rp_rad))))\n",
    "    DS_data = np.array(DS_data)\n",
    "    np.savetxt(f'data_vector_abacus_summit/lensing_{rich_name}_{survey}_{binning}_z{redshift}.dat', DS_data)    \n",
    "    \n",
    "    if binning == 'lam':\n",
    "        #### counts data ####\n",
    "        x, x, NC_data = np.loadtxt(data_loc+'abundance.dat',unpack=True)\n",
    "        np.savetxt(f'data_vector_abacus_summit/counts_{rich_name}_{survey}_{binning}_z{redshift}.dat', NC_data)"
   ]
  },
  {
   "cell_type": "code",
   "execution_count": null,
   "id": "f8e36d4a-8c55-4130-a4e2-985021e76bb3",
   "metadata": {},
   "outputs": [],
   "source": []
  },
  {
   "cell_type": "code",
   "execution_count": 7,
   "id": "f43ff3e6-1282-4add-8b1e-ffe3ede1a219",
   "metadata": {},
   "outputs": [],
   "source": [
    "# # check radius!\n",
    "# rp_rad = np.loadtxt(f'/projects/hywu/cluster_sims/cluster_finding/data/emulator_train/train/rp_rad.dat')\n",
    "# rp_cov = np.loadtxt(cov_loc + 'rp_hiMpc_0.35_0.5_60_1000.dat')[:,2] * a / h\n",
    "# print((rp_cov[4:] - rp_rad)/rp_rad) #okay!"
   ]
  },
  {
   "cell_type": "code",
   "execution_count": 5,
   "id": "a4321145-409e-46cc-b356-a4a4445c231c",
   "metadata": {},
   "outputs": [
    {
     "ename": "FileNotFoundError",
     "evalue": "/projects/hywu/cluster_sims/cluster_finding/data/emulator_data/base_c000_ph000/z0p300/model_hod000000/obs_q180_bg_miscen_desy1/DS_phys_noh_lam_bin_0.dat not found.",
     "output_type": "error",
     "traceback": [
      "\u001b[0;31m---------------------------------------------------------------------------\u001b[0m",
      "\u001b[0;31mFileNotFoundError\u001b[0m                         Traceback (most recent call last)",
      "Cell \u001b[0;32mIn[5], line 15\u001b[0m\n\u001b[1;32m     12\u001b[0m data_loc \u001b[38;5;241m+\u001b[39m\u001b[38;5;241m=\u001b[39m \u001b[38;5;124mf\u001b[39m\u001b[38;5;124m'\u001b[39m\u001b[38;5;124mz\u001b[39m\u001b[38;5;132;01m{\u001b[39;00mz_str\u001b[38;5;132;01m}\u001b[39;00m\u001b[38;5;124m/model_hod000000/obs_\u001b[39m\u001b[38;5;132;01m{\u001b[39;00mrich_name\u001b[38;5;132;01m}\u001b[39;00m\u001b[38;5;124m_\u001b[39m\u001b[38;5;132;01m{\u001b[39;00msurvey\u001b[38;5;132;01m}\u001b[39;00m\u001b[38;5;124m/\u001b[39m\u001b[38;5;124m'\u001b[39m\n\u001b[1;32m     14\u001b[0m \u001b[38;5;28;01mfor\u001b[39;00m ilam \u001b[38;5;129;01min\u001b[39;00m \u001b[38;5;28mrange\u001b[39m(\u001b[38;5;241m4\u001b[39m):\n\u001b[0;32m---> 15\u001b[0m     rp_in, DS_in \u001b[38;5;241m=\u001b[39m np\u001b[38;5;241m.\u001b[39mloadtxt(data_loc \u001b[38;5;241m+\u001b[39m \u001b[38;5;124mf\u001b[39m\u001b[38;5;124m'\u001b[39m\u001b[38;5;124mDS_phys_noh_\u001b[39m\u001b[38;5;132;01m{\u001b[39;00mbinning\u001b[38;5;132;01m}\u001b[39;00m\u001b[38;5;124m_bin_\u001b[39m\u001b[38;5;132;01m{\u001b[39;00milam\u001b[38;5;132;01m}\u001b[39;00m\u001b[38;5;124m.dat\u001b[39m\u001b[38;5;124m'\u001b[39m, unpack\u001b[38;5;241m=\u001b[39m\u001b[38;5;28;01mTrue\u001b[39;00m)\n\u001b[1;32m     16\u001b[0m     DS_interp \u001b[38;5;241m=\u001b[39m interp1d(np\u001b[38;5;241m.\u001b[39mlog(rp_in), np\u001b[38;5;241m.\u001b[39mlog(DS_in))\n\u001b[1;32m     17\u001b[0m     DS_data \u001b[38;5;241m=\u001b[39m np\u001b[38;5;241m.\u001b[39mexp(DS_interp(np\u001b[38;5;241m.\u001b[39mlog(rp_rad)))\n",
      "File \u001b[0;32m~/lib/anaconda3/lib/python3.12/site-packages/numpy/lib/npyio.py:1373\u001b[0m, in \u001b[0;36mloadtxt\u001b[0;34m(fname, dtype, comments, delimiter, converters, skiprows, usecols, unpack, ndmin, encoding, max_rows, quotechar, like)\u001b[0m\n\u001b[1;32m   1370\u001b[0m \u001b[38;5;28;01mif\u001b[39;00m \u001b[38;5;28misinstance\u001b[39m(delimiter, \u001b[38;5;28mbytes\u001b[39m):\n\u001b[1;32m   1371\u001b[0m     delimiter \u001b[38;5;241m=\u001b[39m delimiter\u001b[38;5;241m.\u001b[39mdecode(\u001b[38;5;124m'\u001b[39m\u001b[38;5;124mlatin1\u001b[39m\u001b[38;5;124m'\u001b[39m)\n\u001b[0;32m-> 1373\u001b[0m arr \u001b[38;5;241m=\u001b[39m _read(fname, dtype\u001b[38;5;241m=\u001b[39mdtype, comment\u001b[38;5;241m=\u001b[39mcomment, delimiter\u001b[38;5;241m=\u001b[39mdelimiter,\n\u001b[1;32m   1374\u001b[0m             converters\u001b[38;5;241m=\u001b[39mconverters, skiplines\u001b[38;5;241m=\u001b[39mskiprows, usecols\u001b[38;5;241m=\u001b[39musecols,\n\u001b[1;32m   1375\u001b[0m             unpack\u001b[38;5;241m=\u001b[39munpack, ndmin\u001b[38;5;241m=\u001b[39mndmin, encoding\u001b[38;5;241m=\u001b[39mencoding,\n\u001b[1;32m   1376\u001b[0m             max_rows\u001b[38;5;241m=\u001b[39mmax_rows, quote\u001b[38;5;241m=\u001b[39mquotechar)\n\u001b[1;32m   1378\u001b[0m \u001b[38;5;28;01mreturn\u001b[39;00m arr\n",
      "File \u001b[0;32m~/lib/anaconda3/lib/python3.12/site-packages/numpy/lib/npyio.py:992\u001b[0m, in \u001b[0;36m_read\u001b[0;34m(fname, delimiter, comment, quote, imaginary_unit, usecols, skiplines, max_rows, converters, ndmin, unpack, dtype, encoding)\u001b[0m\n\u001b[1;32m    990\u001b[0m     fname \u001b[38;5;241m=\u001b[39m os\u001b[38;5;241m.\u001b[39mfspath(fname)\n\u001b[1;32m    991\u001b[0m \u001b[38;5;28;01mif\u001b[39;00m \u001b[38;5;28misinstance\u001b[39m(fname, \u001b[38;5;28mstr\u001b[39m):\n\u001b[0;32m--> 992\u001b[0m     fh \u001b[38;5;241m=\u001b[39m np\u001b[38;5;241m.\u001b[39mlib\u001b[38;5;241m.\u001b[39m_datasource\u001b[38;5;241m.\u001b[39mopen(fname, \u001b[38;5;124m'\u001b[39m\u001b[38;5;124mrt\u001b[39m\u001b[38;5;124m'\u001b[39m, encoding\u001b[38;5;241m=\u001b[39mencoding)\n\u001b[1;32m    993\u001b[0m     \u001b[38;5;28;01mif\u001b[39;00m encoding \u001b[38;5;129;01mis\u001b[39;00m \u001b[38;5;28;01mNone\u001b[39;00m:\n\u001b[1;32m    994\u001b[0m         encoding \u001b[38;5;241m=\u001b[39m \u001b[38;5;28mgetattr\u001b[39m(fh, \u001b[38;5;124m'\u001b[39m\u001b[38;5;124mencoding\u001b[39m\u001b[38;5;124m'\u001b[39m, \u001b[38;5;124m'\u001b[39m\u001b[38;5;124mlatin1\u001b[39m\u001b[38;5;124m'\u001b[39m)\n",
      "File \u001b[0;32m~/lib/anaconda3/lib/python3.12/site-packages/numpy/lib/_datasource.py:193\u001b[0m, in \u001b[0;36mopen\u001b[0;34m(path, mode, destpath, encoding, newline)\u001b[0m\n\u001b[1;32m    156\u001b[0m \u001b[38;5;250m\u001b[39m\u001b[38;5;124;03m\"\"\"\u001b[39;00m\n\u001b[1;32m    157\u001b[0m \u001b[38;5;124;03mOpen `path` with `mode` and return the file object.\u001b[39;00m\n\u001b[1;32m    158\u001b[0m \n\u001b[0;32m   (...)\u001b[0m\n\u001b[1;32m    189\u001b[0m \n\u001b[1;32m    190\u001b[0m \u001b[38;5;124;03m\"\"\"\u001b[39;00m\n\u001b[1;32m    192\u001b[0m ds \u001b[38;5;241m=\u001b[39m DataSource(destpath)\n\u001b[0;32m--> 193\u001b[0m \u001b[38;5;28;01mreturn\u001b[39;00m ds\u001b[38;5;241m.\u001b[39mopen(path, mode, encoding\u001b[38;5;241m=\u001b[39mencoding, newline\u001b[38;5;241m=\u001b[39mnewline)\n",
      "File \u001b[0;32m~/lib/anaconda3/lib/python3.12/site-packages/numpy/lib/_datasource.py:533\u001b[0m, in \u001b[0;36mDataSource.open\u001b[0;34m(self, path, mode, encoding, newline)\u001b[0m\n\u001b[1;32m    530\u001b[0m     \u001b[38;5;28;01mreturn\u001b[39;00m _file_openers[ext](found, mode\u001b[38;5;241m=\u001b[39mmode,\n\u001b[1;32m    531\u001b[0m                               encoding\u001b[38;5;241m=\u001b[39mencoding, newline\u001b[38;5;241m=\u001b[39mnewline)\n\u001b[1;32m    532\u001b[0m \u001b[38;5;28;01melse\u001b[39;00m:\n\u001b[0;32m--> 533\u001b[0m     \u001b[38;5;28;01mraise\u001b[39;00m \u001b[38;5;167;01mFileNotFoundError\u001b[39;00m(\u001b[38;5;124mf\u001b[39m\u001b[38;5;124m\"\u001b[39m\u001b[38;5;132;01m{\u001b[39;00mpath\u001b[38;5;132;01m}\u001b[39;00m\u001b[38;5;124m not found.\u001b[39m\u001b[38;5;124m\"\u001b[39m)\n",
      "\u001b[0;31mFileNotFoundError\u001b[0m: /projects/hywu/cluster_sims/cluster_finding/data/emulator_data/base_c000_ph000/z0p300/model_hod000000/obs_q180_bg_miscen_desy1/DS_phys_noh_lam_bin_0.dat not found."
     ]
    },
    {
     "data": {
      "text/plain": [
       "<Figure size 2000x2000 with 0 Axes>"
      ]
     },
     "metadata": {},
     "output_type": "display_data"
    }
   ],
   "source": [
    "# plot the fake data and error bars\n",
    "plt.figure(figsize=(10,10))\n",
    "cov_loc = '/users/hywu/work/cluster-lensing-cov-public/examples/abacus_summit_analytic_desy1/'\n",
    "#for iz in [0]:#range(3):\n",
    "    #plt.subplot(1,3,1+iz)\n",
    "for binning in ['lam', 'abun']:\n",
    "    if binning == 'lam': ls = '-'\n",
    "    if binning == 'abun2': ls = ':'\n",
    "\n",
    "    redshift = z_sim[iz]\n",
    "    data_loc = '/projects/hywu/cluster_sims/cluster_finding/data/emulator_data/base_c000_ph000/'\n",
    "    data_loc += f'z{z_str}/model_hod000000/obs_{rich_name}_{survey}/'\n",
    "\n",
    "    for ilam in range(4):\n",
    "        rp_in, DS_in = np.loadtxt(data_loc + f'DS_phys_noh_{binning}_bin_{ilam}.dat', unpack=True)\n",
    "        DS_interp = interp1d(np.log(rp_in), np.log(DS_in))\n",
    "        DS_data = np.exp(DS_interp(np.log(rp_rad)))\n",
    "    \n",
    "        cov = np.loadtxt(cov_loc + f'DeltaSigma_cov_combined_phys_noh_{z_data[iz]}_{z_data[iz+1]}_{lam[ilam]}_{lam[ilam+1]}.dat')\n",
    "        sig = np.sqrt(np.diag(cov))[4:]\n",
    "        line = plt.plot(rp_rad, rp_rad*DS_data, ls=ls, c=f'C{ilam}')\n",
    "        co = line[0].get_c()\n",
    "        plt.errorbar(rp_rad, rp_rad*DS_data, rp_rad*sig, \n",
    "                     label='data', c=co, marker='o', mec=co, ls='', capsize=8)#, np.diag(cov))\n",
    "        plt.xscale('log')\n",
    "        print('frac noise: DS', sig/DS_data)\n",
    "    \n",
    "    plt.xlim(0.2, 40)\n",
    "    plt.ylim(0.10, 120)\n",
    "    plt.title(f'AbacusSummit z={redshift}, DES-level noise')\n",
    "    \n",
    "    plt.xlabel(r'$r_{\\rm p}~[{\\rm pMpc}]$')\n",
    "    plt.ylabel(r'$r_{\\rm p} \\Delta\\Sigma~[{\\rm pMpc ~M_\\odot/pc^2} ]$')\n",
    "    cov_NC = np.loadtxt('cov/cov_counts_desy1_z0.3.dat')\n",
    "    sig_NC = np.sqrt(np.diag(cov_NC))\n",
    "    print('frac noise: NC',sig_NC/NC_data)\n",
    "    plt.title('solid: Ncyl; dotted: abun matched')\n"
   ]
  },
  {
   "cell_type": "code",
   "execution_count": null,
   "id": "9f33a8ef-d73a-43ec-9d4e-e67244abfcd0",
   "metadata": {},
   "outputs": [],
   "source": []
  },
  {
   "cell_type": "code",
   "execution_count": null,
   "id": "59e0da94-4c54-43c9-97c9-17d9aae8e9bf",
   "metadata": {},
   "outputs": [],
   "source": []
  }
 ],
 "metadata": {
  "kernelspec": {
   "display_name": "Python 3 (ipykernel)",
   "language": "python",
   "name": "python3"
  },
  "language_info": {
   "codemirror_mode": {
    "name": "ipython",
    "version": 3
   },
   "file_extension": ".py",
   "mimetype": "text/x-python",
   "name": "python",
   "nbconvert_exporter": "python",
   "pygments_lexer": "ipython3",
   "version": "3.12.2"
  }
 },
 "nbformat": 4,
 "nbformat_minor": 5
}
