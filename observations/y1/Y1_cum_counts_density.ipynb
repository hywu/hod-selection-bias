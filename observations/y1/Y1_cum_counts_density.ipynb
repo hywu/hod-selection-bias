{
 "cells": [
  {
   "cell_type": "code",
   "execution_count": 1,
   "id": "67674823",
   "metadata": {},
   "outputs": [],
   "source": [
    "import numpy as np\n",
    "import matplotlib.pyplot as plt\n",
    "import fitsio"
   ]
  },
  {
   "cell_type": "code",
   "execution_count": 2,
   "id": "76d0a064",
   "metadata": {},
   "outputs": [
    {
     "name": "stdout",
     "output_type": "stream",
     "text": [
      "DES volume = 2.031314e+08 (Mpc/h)^3\n",
      "DES volume = 0.203131 (Gpc/h)^3\n",
      "DES volume = (587.84 Mpc/h)^3\n"
     ]
    }
   ],
   "source": [
    "from astropy.cosmology import FlatLambdaCDM\n",
    "Om = 0.31519\n",
    "cosmo = FlatLambdaCDM(H0=100, Om0=Om)\n",
    "fsky = 1437./41253. #(1321 + 116) \n",
    "# zmin = 0.2\n",
    "# zmax = 0.35\n",
    "zmin = 0.35\n",
    "zmax = 0.50 # TODO: make a dictionary\n",
    "\n",
    "vol_des = cosmo.comoving_volume(zmax).value - cosmo.comoving_volume(zmin).value\n",
    "vol_des = vol_des * fsky\n",
    "print('DES volume = %e (Mpc/h)^3'%vol_des)\n",
    "print('DES volume = %g (Gpc/h)^3'%(vol_des*1e-9))\n",
    "print('DES volume = (%g Mpc/h)^3'%(vol_des**(1./3.)))"
   ]
  },
  {
   "cell_type": "code",
   "execution_count": 3,
   "id": "34f2b7ad",
   "metadata": {},
   "outputs": [
    {
     "name": "stdout",
     "output_type": "stream",
     "text": [
      "mean z = 0.42959964\n",
      "median z = 0.42829236\n",
      "NC= 1549\n",
      "mean z = 0.42609707\n",
      "median z = 0.4215436\n",
      "NC= 672\n",
      "mean z = 0.43071392\n",
      "median z = 0.42749658\n",
      "NC= 187\n",
      "mean z = 0.42906234\n",
      "median z = 0.42768365\n",
      "NC= 148\n"
     ]
    }
   ],
   "source": [
    "#### DES Y1 counts ####\n",
    "loc = '/users/hywu/important_data/DES-Y1/'\n",
    "fname = loc + 'y1a1_gold_1.0.3-d10-mof-001d_run_redmapper_v6.4.17_lgt5_desformat_catalog.fit'\n",
    "import fitsio\n",
    "data, header = fitsio.read(fname, header=True)\n",
    "#print(header)\n",
    "zlam = data['Z_LAMBDA']\n",
    "lam = data['LAMBDA_CHISQ']\n",
    "\n",
    "# first verify with DES Y1 CL paper\n",
    "lam_min = np.array([20, 30, 45, 60])\n",
    "lam_max = np.array([30, 45, 60, 1000])\n",
    "\n",
    "nbin = len(lam_min)\n",
    "NC_list = []\n",
    "for ibin in range(nbin):\n",
    "    sel = (zlam > zmin)&(zlam < zmax)&(lam >= lam_min[ibin])&(lam < lam_max[ibin])\n",
    "    \n",
    "    print('mean z =',np.mean(zlam[sel]))\n",
    "    print('median z =',np.median(zlam[sel]))\n",
    "    NC = len(lam[sel])\n",
    "    print('NC=', NC)\n",
    "    NC_list.append(NC)\n",
    "## Yes, it agrees!"
   ]
  },
  {
   "cell_type": "code",
   "execution_count": 4,
   "id": "8391bfc0",
   "metadata": {},
   "outputs": [
    {
     "name": "stdout",
     "output_type": "stream",
     "text": [
      "[1549, 672, 187, 148]\n",
      "[2556 1007  335  148]\n"
     ]
    }
   ],
   "source": [
    "# cum: start from the richest\n",
    "NC_cum = np.cumsum(NC_list[::-1])[::-1]\n",
    "print(NC_list)\n",
    "print(NC_cum)\n",
    "out_loc = 'data/'\n",
    "np.savetxt(out_loc+f'cluster_cumulative_counts_no_miscen_z_{zmin}_{zmax}.dat', \n",
    "           NC_cum, fmt='%g', header='no miscentering')"
   ]
  },
  {
   "cell_type": "code",
   "execution_count": 5,
   "id": "072cda6d",
   "metadata": {},
   "outputs": [
    {
     "name": "stdout",
     "output_type": "stream",
     "text": [
      "space density in bins [3.86498550e-06 1.91157033e-06 6.26195587e-07 4.62262308e-07]\n"
     ]
    }
   ],
   "source": [
    "# calculate the cumulative density (for matching space density)\n",
    "import numpy as np\n",
    "lam_min = np.array([20, 30, 45, 60])\n",
    "lam_max = np.array([30, 45, 60, 1000])\n",
    "# TODO: need other z values\n",
    "# NC = np.array([785.1, 388.3, 127.2, 93.9])  # Table 1, miscen corrected\n",
    "# dNC_stat = np.array([54.9, 32.1, 15.2, 14.0]) \n",
    "space_density = NC/vol_des\n",
    "print('space density in bins', space_density)\n",
    "\n",
    "cum_num = []\n",
    "for i in range(4):\n",
    "    cum_num.append(np.sum(space_density[i:]))\n",
    "\n",
    "cum_num2 = np.cumsum(space_density)\n",
    "out_loc = 'data/'\n",
    "np.savetxt(out_loc+f'cluster_cumulative_density_z_{zmin}_{zmax}.dat', \n",
    "           cum_num, fmt='%-e', header='h^3 Mpc-3 (Om=%g)'%(Om))"
   ]
  },
  {
   "cell_type": "code",
   "execution_count": 6,
   "id": "3460ded2",
   "metadata": {},
   "outputs": [],
   "source": [
    "# vol_abacus = 1100**3\n",
    "# cum_num_abacus = np.array(np.around(cum_num * vol_abacus)+1e-4, dtype=int)\n",
    "# print('cum number in abacus', cum_num_abacus)"
   ]
  },
  {
   "cell_type": "code",
   "execution_count": 7,
   "id": "fd54f795",
   "metadata": {},
   "outputs": [],
   "source": [
    "# vol_summit = 2000**3\n",
    "# cum_num_summit = np.array(np.around(cum_num * vol_summit)+1e-4, dtype=int)\n",
    "# print('cum number in abacus summit', cum_num_summit)"
   ]
  },
  {
   "cell_type": "code",
   "execution_count": 8,
   "id": "275a78a9",
   "metadata": {},
   "outputs": [],
   "source": [
    "# vol_mini = 400**3\n",
    "# cum_num_mini = np.array(np.around(cum_num * vol_mini)+1e-4, dtype=int)\n",
    "# print('cum number in mini uchuu', cum_num_abacus)"
   ]
  },
  {
   "cell_type": "code",
   "execution_count": 9,
   "id": "f9db50cb",
   "metadata": {},
   "outputs": [],
   "source": [
    "# ## calculate the corresponding mass asssuming there's no scatter\n",
    "# # read abacus \n",
    "# import sys\n",
    "# sys.path.append('../utils/')\n",
    "# from read_abacus_summit import ReadAbacusSummit\n",
    "# nbody_loc = '/bsuhome/hwu/scratch/abacus_summit/'\n",
    "# ras = ReadAbacusSummit(nbody_loc)\n",
    "# ras.read_halos(1e13)\n",
    "# mass_summit = ras.mass"
   ]
  },
  {
   "cell_type": "code",
   "execution_count": 10,
   "id": "fef74589",
   "metadata": {},
   "outputs": [],
   "source": [
    "# # add 0.2 scatter\n",
    "# scatt = 0.2\n",
    "# ln_mass_summit = np.log(mass_summit)\n",
    "# nhalo = len(mass_summit)\n",
    "# ln_mass_summit += np.random.normal(0, scatt, nhalo)\n",
    "# ln_mass_summit = np.sort(ln_mass_summit)[::-1]\n",
    "# bin_edges =  np.exp(ln_mass_summit[cum_num_summit])\n",
    "# print('abundance matched mass bin edges', np.exp(ln_mass_summit[cum_num_summit]))\n",
    "# Mmin_obs = bin_edges\n",
    "# Mmax_obs = np.append(bin_edges[1:], 1e16)\n",
    "# data = np.array([Mmin_obs, Mmax_obs]).transpose()\n",
    "# zmin = 0.2\n",
    "# np.savetxt(f'data/Mobs_bins_cov_z{zmin}_scatt{scatt}.dat', data, fmt='%-12g', header='Mobs_min, Mobs_max')"
   ]
  },
  {
   "cell_type": "code",
   "execution_count": null,
   "id": "b6fc2536",
   "metadata": {},
   "outputs": [],
   "source": []
  },
  {
   "cell_type": "code",
   "execution_count": 11,
   "id": "659a7a17",
   "metadata": {},
   "outputs": [],
   "source": [
    "# # calculate the cumulative space density vs. richness\n",
    "# lam_min_list = 10**np.linspace(np.log10(20), np.log10(100), 20)\n",
    "# den_list = []\n",
    "# for lam_min in lam_min_list:\n",
    "#     sel = (lam >= lam_min)\n",
    "#     den_list.append(len(lam[sel]))\n",
    "# den_list = np.array(den_list)/vol_des\n",
    "# plt.plot(lam_min_list, den_list)\n",
    "# plt.loglog()\n",
    "\n",
    "# from scipy.interpolate import interp1d\n",
    "# lam_interp = interp1d(den_list[::-1], lam_min_list[::-1])\n",
    "# print(lam_interp(1e-5))\n",
    "# print(lam_interp(3e-6))\n",
    "# print(lam_interp(1e-6))"
   ]
  },
  {
   "cell_type": "code",
   "execution_count": 12,
   "id": "af52e7b9",
   "metadata": {},
   "outputs": [
    {
     "data": {
      "text/plain": [
       "9.233786e-07"
      ]
     },
     "execution_count": 12,
     "metadata": {},
     "output_type": "execute_result"
    }
   ],
   "source": [
    "# h^3 Mpc-3 (Om=0.31519)\n",
    "1.371301e-05\n",
    "5.992619e-06\n",
    "2.174217e-06\n",
    "9.233786e-07"
   ]
  }
 ],
 "metadata": {
  "kernelspec": {
   "display_name": "Python 3 (ipykernel)",
   "language": "python",
   "name": "python3"
  },
  "language_info": {
   "codemirror_mode": {
    "name": "ipython",
    "version": 3
   },
   "file_extension": ".py",
   "mimetype": "text/x-python",
   "name": "python",
   "nbconvert_exporter": "python",
   "pygments_lexer": "ipython3",
   "version": "3.12.2"
  }
 },
 "nbformat": 4,
 "nbformat_minor": 5
}
